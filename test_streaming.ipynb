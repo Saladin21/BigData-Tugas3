{
 "cells": [
  {
   "cell_type": "code",
   "execution_count": 1,
   "metadata": {},
   "outputs": [
    {
     "name": "stderr",
     "output_type": "stream",
     "text": [
      "23/04/27 11:47:21 WARN Utils: Truncated the string representation of a plan since it was too large. This behavior can be adjusted by setting 'spark.debug.maxToStringFields' in SparkEnv.conf.\n"
     ]
    }
   ],
   "source": [
    "twitter_schema = spark.read.json(\"twitter_sample.json\").schema\n",
    "instagram_schema = spark.read.json(\"instagram_sample.json\").schema\n",
    "facebook_schema = spark.read.json(\"facebook_sample.json\").schema\n",
    "youtube_schema = spark.read.json(\"youtube_sample.json\").schema"
   ]
  },
  {
   "cell_type": "code",
   "execution_count": null,
   "metadata": {},
   "outputs": [
    {
     "name": "stderr",
     "output_type": "stream",
     "text": [
      "                                                                                \r"
     ]
    }
   ],
   "source": [
    "from pyspark.sql.types import MapType,StringType, ArrayType\n",
    "from pyspark.sql.functions import from_json, from_unixtime, unix_timestamp, floor,window, approx_count_distinct, current_timestamp\n",
    "from pyspark.sql.functions import col\n",
    "\n",
    "df = spark \\\n",
    "  .readStream \\\n",
    "  .format(\"kafka\") \\\n",
    "  .option(\"kafka.bootstrap.servers\", \"localhost:9092\") \\\n",
    "  .option(\"subscribe\", \"mytopic\") \\\n",
    "  .load()\n",
    "\n",
    "df_twitter = df.selectExpr(\"CAST(key AS STRING)\", \"CAST(value AS STRING)\") \\\n",
    "    .filter(df.key == \"twitter\") \\\n",
    "    .select(col(\"key\"), from_json(col(\"value\").cast(\"string\"), twitter_schema).alias(\"parsed_value\")) \\\n",
    "    .select(col(\"key\").alias('social_media'), from_unixtime(floor(unix_timestamp(col(\"parsed_value.created_at\"),\"EEE MMM dd HH:mm:ss ZZZZ yyyy\") / 300)*300).alias('time'), col(\"parsed_value.user_id_str\").alias('username')) \\\n",
    "\n",
    "df_instagram = df.selectExpr(\"CAST(key AS STRING)\", \"CAST(value AS STRING)\") \\\n",
    "    .filter(df.key == \"instagram\") \\\n",
    "    .select(col(\"key\"), from_json(col(\"value\").cast(\"string\"), instagram_schema).alias(\"parsed_value\")) \\\n",
    "    .select(col(\"key\").alias('social_media'), from_unixtime(floor(col(\"parsed_value.created_time\") / 300)*300).alias('time'), col(\"parsed_value.user.id\").alias('username')) \\\n",
    "\n",
    "df_facebook = df.selectExpr(\"CAST(key AS STRING)\", \"CAST(value AS STRING)\") \\\n",
    "    .filter(df.key == \"facebook\") \\\n",
    "    .select(col(\"key\"), from_json(col(\"value\").cast(\"string\"), facebook_schema).alias(\"parsed_value\")) \\\n",
    "    .select(col(\"key\").alias('social_media'), from_unixtime(floor(unix_timestamp(col(\"parsed_value.created_time\"),format=\"yyyy-MM-dd'T'HH:mm:ss'+0000'\") / 300)*300).alias('time'), col(\"parsed_value.from.id\").alias('username')) \\\n",
    "\n",
    "df_youtube = df.selectExpr(\"CAST(key AS STRING)\", \"CAST(value AS STRING)\") \\\n",
    "    .filter(df.key == \"youtube\") \\\n",
    "    .select(col(\"key\"), from_json(col(\"value\").cast(\"string\"), youtube_schema).alias(\"parsed_value\")) \\\n",
    "    .select(col(\"key\").alias('social_media'), from_unixtime(floor(unix_timestamp(col(\"parsed_value.snippet.publishedAt\"),format=\"yyyy-MM-dd'T'HH:mm:ss'Z'\") / 300)*300).alias('time'), col(\"parsed_value.snippet.channelId\").alias('username')) \\\n",
    "\n",
    "df_all = df_twitter.union(df_instagram).union(df_facebook).union(df_youtube).selectExpr('social_media', 'CAST(time as timestamp)', 'username')\n",
    "df_all = df_all.withWatermark(\"time\", \"15 seconds\").groupBy(window(col('time'), \"5 minutes\"),col('social_media'))\n",
    "# df_unique = df_all.agg(approx_count_distinct(\"username\")).select(col('social_media'), col('window'), col('approx_count_distinct(username)').alias('unique_count'))\n",
    "df_count = df_all.count()\n",
    "# df_res = df_count.withColumn(\"unique_count\",col(\"count\"))\\\n",
    "#     .select(col('window.start').alias('time'), 'social_media', 'count', 'unique_count') \\\n",
    "#     .writeStream \\\n",
    "#     .format(\"console\") \\\n",
    "#     .outputMode(\"append\") \\\n",
    "#     .start() \\\n",
    "#     .awaitTermination()\n",
    "\n",
    "def foreach_batch_function(df, epoch_id) -> None:\n",
    "    df.write\\\n",
    "        .mode(\"append\")\\\n",
    "        .format(\"jdbc\") \\\n",
    "        .option(\"url\", \"jdbc:postgresql://localhost:5432/pyspark\") \\\n",
    "        .option(\"driver\", \"org.postgresql.Driver\")\\\n",
    "        .option(\"dbtable\", \"social_media_dataframe\") \\\n",
    "        .option(\"user\", \"bigdata\")\\\n",
    "        .save()\n",
    "    #df.format(\"console\").outputMode(\"append\")\n",
    "\n",
    "df_res = df_count.withColumn(\"unique_count\", col(\"count\")).withColumn('created_time', current_timestamp())\\\n",
    "    .select(col('window.start').alias('time'), 'social_media', 'count', 'unique_count', 'created_time') \n",
    "\n",
    "df_res.writeStream.foreachBatch(foreach_batch_function).start().awaitTermination()\n",
    "# df_res = df_count.withColumn(\"unique_count\",col(\"count\"))\\\n",
    "#     .select(col('window.start').alias('time'), 'social_media', 'count', 'unique_count') \\\n",
    "#     .writeStream \\\n",
    "#     .format(\"console\") \\\n",
    "#     .outputMode(\"append\") \\\n",
    "#     .start() \\\n",
    "#     .awaitTermination()"
   ]
  },
  {
   "cell_type": "code",
   "execution_count": null,
   "metadata": {
    "id": "AXbpl0nUkaKc"
   },
   "outputs": [],
   "source": []
  }
 ],
 "metadata": {
  "colab": {
   "provenance": []
  },
  "kernelspec": {
   "display_name": "Python 3 (ipykernel)",
   "language": "python",
   "name": "python3"
  },
  "language_info": {
   "codemirror_mode": {
    "name": "ipython",
    "version": 3
   },
   "file_extension": ".py",
   "mimetype": "text/x-python",
   "name": "python",
   "nbconvert_exporter": "python",
   "pygments_lexer": "ipython3",
   "version": "3.7.16"
  }
 },
 "nbformat": 4,
 "nbformat_minor": 1
}
